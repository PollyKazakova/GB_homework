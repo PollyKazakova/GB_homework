{
 "cells": [
  {
   "cell_type": "code",
   "execution_count": 39,
   "id": "0ea24b6a",
   "metadata": {},
   "outputs": [],
   "source": [
    "%matplotlib inline\n",
    "import numpy as np\n",
    "import matplotlib.pyplot as plt\n",
    "import matplotlib.mlab as mlab\n",
    "import math as math"
   ]
  },
  {
   "cell_type": "code",
   "execution_count": 40,
   "id": "e4109954",
   "metadata": {},
   "outputs": [
    {
     "name": "stdout",
     "output_type": "stream",
     "text": [
      "\n",
      "8 - black\n",
      "\n",
      "17 - black\n",
      "\n",
      "21 - red\n",
      "\n",
      "12 - red\n",
      "\n",
      "7 - red\n"
     ]
    }
   ],
   "source": [
    "#Напишите код, моделирующий выпадение поля в рулетке (с учетом поля зеро).\n",
    "\n",
    "%matplotlib inline\n",
    "import numpy as np\n",
    "import random\n",
    "\n",
    "red = [1, 3, 5, 7, 9, 12, 14, 16, 18, 19, 21, 23, 25, 27, 30, 32, 34, 36]\n",
    "\n",
    "for i in range(0, 5):\n",
    "    a = input()\n",
    "    num = random.randrange(0, 36)\n",
    "    if num==0:\n",
    "        print(f'{num} - green')\n",
    "    elif num in red:\n",
    "        print(f'{num} - red')\n",
    "    else:\n",
    "        print(f'{num} - black')"
   ]
  },
  {
   "cell_type": "code",
   "execution_count": 49,
   "id": "3d12d787",
   "metadata": {},
   "outputs": [
    {
     "name": "stdout",
     "output_type": "stream",
     "text": [
      "Вероятность выпадания решки: 0.51\n",
      "Вероятность выпадания орла: 0.49\n",
      "\n",
      "Сумма вероятностей противоположных событий: 1.0\n",
      "\n",
      "Теорема сложения работает корректно!\n"
     ]
    }
   ],
   "source": [
    "#Напишите код, проверяющий любую из теорем сложения или умножения вероятности на примере рулетки или подбрасывания монетки\n",
    "\n",
    "%matplotlib inline\n",
    "import numpy as np\n",
    "\n",
    "k,m,l = 0, 0, 0\n",
    "n = 100\n",
    "\n",
    "for i in range(0, n):\n",
    "    x = np.random.uniform(0, 10)\n",
    "    l=l+1\n",
    "    #решка\n",
    "    if x<5:\n",
    "        k = k + 1 \n",
    "    #орел\n",
    "    else:\n",
    "        m = m + 1\n",
    "        \n",
    "print(f'Вероятность выпадания решки: {k/l}')\n",
    "print(f'Вероятность выпадания орла: {m/l}')\n",
    "print(f'\\nСумма вероятностей противоположных событий: {m/l + k/l}')\n",
    "\n",
    "if (m/l + k/l) == 1.0:\n",
    "    print('\\nТеорема сложения работает корректно!')\n",
    "else:\n",
    "    print('\\nТеорема сложения работает некорректно!')"
   ]
  },
  {
   "cell_type": "code",
   "execution_count": 45,
   "id": "99de5b36",
   "metadata": {},
   "outputs": [
    {
     "name": "stdout",
     "output_type": "stream",
     "text": [
      "[3.656303920886828, 4.579750737522805, 4.7752579855007555, 5.596343559794798, 5.4344924291806045, 4.3671057596726275, 4.215331686597168, 5.414880415168703, 6.6980232644686915, 5.422503845893905, 5.58579222751587]\n"
     ]
    },
    {
     "data": {
      "text/plain": [
       "Text(0.5, 1.0, 'Histogram')"
      ]
     },
     "execution_count": 45,
     "metadata": {},
     "output_type": "execute_result"
    },
    {
     "data": {
      "image/png": "[encoded data removed]",
      "text/plain": [
       "<Figure size 432x288 with 1 Axes>"
      ]
     },
     "metadata": {
      "needs_background": "light"
     },
     "output_type": "display_data"
    }
   ],
   "source": [
    "#Сгенерируйте десять выборок случайных чисел х0, …, х9 и постройте гистограмму распределения случайной суммы  +х0+ …+х9.\n",
    "\n",
    "import numpy as np\n",
    "import matplotlib.pyplot as plt\n",
    "import matplotlib.mlab as mlab\n",
    "\n",
    "allsums=[]\n",
    "for i in range(0, 11):\n",
    "    x=np.random.rand(10)\n",
    "    allsums.append(sum(x))\n",
    "    i+=1\n",
    "print(allsums)\n",
    "num_bins = 10\n",
    "\n",
    "n, bins, patches = plt.hist(allsums, num_bins)\n",
    "plt.xlabel('summa')\n",
    "plt.ylabel('Probability')\n",
    "plt.title('Histogram')"
   ]
  },
  {
   "cell_type": "code",
   "execution_count": 53,
   "id": "d87fb22b",
   "metadata": {},
   "outputs": [
    {
     "name": "stdout",
     "output_type": "stream",
     "text": [
      "0.377\n",
      "1.3760674077303568e-15\n"
     ]
    }
   ],
   "source": [
    "#Дополните код Монте-Карло последовательности независимых испытаний расчетом соответствующих вероятностей \n",
    "#(через биномиальное распределение) и сравните результаты.\n",
    "\n",
    "k, n = 0, 1000\n",
    "a = np.random.randint(0, 2, n)\n",
    "b = np.random.randint(0, 2, n)\n",
    "c = np.random.randint(0, 2, n)\n",
    "d = np.random.randint(0, 2, n)\n",
    "x = a + b + c + d\n",
    "for i in range(0, n):\n",
    "    if x[i] == 2:\n",
    "        k = k + 1\n",
    "        \n",
    "print(k/n)\n",
    "\n",
    "C = math.factorial(n) / (math.factorial(k) * math.factorial(n - k))\n",
    "P = C / pow(2, n)\n",
    "print(P)"
   ]
  },
  {
   "cell_type": "code",
   "execution_count": 58,
   "id": "72ebf1f3",
   "metadata": {},
   "outputs": [
    {
     "name": "stdout",
     "output_type": "stream",
     "text": [
      "0.36\n",
      "8.768037613462597e-11\n"
     ]
    }
   ],
   "source": [
    "#Повторите расчеты биномиальных коэффициентов и вероятностей k успехов в последовательности из n независимых испытаний, \n",
    "#взяв другие значения n и k.\n",
    "\n",
    "k, n = 0, 500\n",
    "a = np.random.randint(0, 2, n)\n",
    "b = np.random.randint(0, 2, n)\n",
    "c = np.random.randint(0, 2, n)\n",
    "d = np.random.randint(0, 2, n)\n",
    "x = a + b + c + d\n",
    "for i in range(0, n):\n",
    "    if x[i] == 2:\n",
    "        k = k + 1\n",
    "        \n",
    "print(k/n)\n",
    "\n",
    "C = math.factorial(n) / (math.factorial(k) * math.factorial(n - k))\n",
    "P = C / pow(2, n)\n",
    "print(P)"
   ]
  },
  {
   "cell_type": "code",
   "execution_count": 59,
   "id": "6279ea61",
   "metadata": {},
   "outputs": [
    {
     "name": "stdout",
     "output_type": "stream",
     "text": [
      "0.385\n",
      "3.7164513302293977e-09\n"
     ]
    }
   ],
   "source": [
    "#Повторите расчеты биномиальных коэффициентов и вероятностей k успехов в последовательности из n независимых испытаний, \n",
    "#взяв другие значения n и k.\n",
    "\n",
    "k, n = 2, 600\n",
    "a = np.random.randint(0, 2, n)\n",
    "b = np.random.randint(0, 2, n)\n",
    "c = np.random.randint(0, 2, n)\n",
    "d = np.random.randint(0, 2, n)\n",
    "x = a + b + c + d\n",
    "for i in range(0, n):\n",
    "    if x[i] == 2:\n",
    "        k = k + 1\n",
    "        \n",
    "print(k/n)\n",
    "\n",
    "C = math.factorial(n) / (math.factorial(k) * math.factorial(n - k))\n",
    "P = C / pow(2, n)\n",
    "print(P)"
   ]
  },
  {
   "cell_type": "code",
   "execution_count": 67,
   "id": "15876595",
   "metadata": {},
   "outputs": [
    {
     "name": "stdout",
     "output_type": "stream",
     "text": [
      "012\n",
      "013\n",
      "021\n",
      "023\n",
      "031\n",
      "032\n",
      "102\n",
      "103\n",
      "120\n",
      "123\n",
      "130\n",
      "132\n",
      "201\n",
      "203\n",
      "210\n",
      "213\n",
      "230\n",
      "231\n",
      "301\n",
      "302\n",
      "310\n",
      "312\n",
      "320\n",
      "321\n",
      "***************\n",
      "012\n",
      "013\n",
      "023\n",
      "123\n"
     ]
    }
   ],
   "source": [
    "#Из урока по комбинаторике повторите расчеты, сгенерировав возможные варианты перестановок для других значений n и k\n",
    "\n",
    "import itertools\n",
    "\n",
    "for p in itertools.permutations(\"0123\", 3):\n",
    "    print(''.join(str(x) for x in p))\n",
    "    \n",
    "print('*' * 15)\n",
    "for p in itertools.combinations(\"0123\", 3):\n",
    "    print(''.join(p))"
   ]
  },
  {
   "cell_type": "code",
   "execution_count": 68,
   "id": "5f266710",
   "metadata": {},
   "outputs": [
    {
     "name": "stdout",
     "output_type": "stream",
     "text": [
      "0123\n",
      "0124\n",
      "0132\n",
      "0134\n",
      "0142\n",
      "0143\n",
      "0213\n",
      "0214\n",
      "0231\n",
      "0234\n",
      "0241\n",
      "0243\n",
      "0312\n",
      "0314\n",
      "0321\n",
      "0324\n",
      "0341\n",
      "0342\n",
      "0412\n",
      "0413\n",
      "0421\n",
      "0423\n",
      "0431\n",
      "0432\n",
      "1023\n",
      "1024\n",
      "1032\n",
      "1034\n",
      "1042\n",
      "1043\n",
      "1203\n",
      "1204\n",
      "1230\n",
      "1234\n",
      "1240\n",
      "1243\n",
      "1302\n",
      "1304\n",
      "1320\n",
      "1324\n",
      "1340\n",
      "1342\n",
      "1402\n",
      "1403\n",
      "1420\n",
      "1423\n",
      "1430\n",
      "1432\n",
      "2013\n",
      "2014\n",
      "2031\n",
      "2034\n",
      "2041\n",
      "2043\n",
      "2103\n",
      "2104\n",
      "2130\n",
      "2134\n",
      "2140\n",
      "2143\n",
      "2301\n",
      "2304\n",
      "2310\n",
      "2314\n",
      "2340\n",
      "2341\n",
      "2401\n",
      "2403\n",
      "2410\n",
      "2413\n",
      "2430\n",
      "2431\n",
      "3012\n",
      "3014\n",
      "3021\n",
      "3024\n",
      "3041\n",
      "3042\n",
      "3102\n",
      "3104\n",
      "3120\n",
      "3124\n",
      "3140\n",
      "3142\n",
      "3201\n",
      "3204\n",
      "3210\n",
      "3214\n",
      "3240\n",
      "3241\n",
      "3401\n",
      "3402\n",
      "3410\n",
      "3412\n",
      "3420\n",
      "3421\n",
      "4012\n",
      "4013\n",
      "4021\n",
      "4023\n",
      "4031\n",
      "4032\n",
      "4102\n",
      "4103\n",
      "4120\n",
      "4123\n",
      "4130\n",
      "4132\n",
      "4201\n",
      "4203\n",
      "4210\n",
      "4213\n",
      "4230\n",
      "4231\n",
      "4301\n",
      "4302\n",
      "4310\n",
      "4312\n",
      "4320\n",
      "4321\n",
      "***************\n",
      "0123\n",
      "0124\n",
      "0134\n",
      "0234\n",
      "1234\n"
     ]
    }
   ],
   "source": [
    "import itertools\n",
    "\n",
    "for p in itertools.permutations(\"01234\", 4):\n",
    "    print(''.join(str(x) for x in p))\n",
    "    \n",
    "print('*' * 15)\n",
    "for p in itertools.combinations(\"01234\", 4):\n",
    "    print(''.join(p))"
   ]
  },
  {
   "cell_type": "code",
   "execution_count": null,
   "id": "a10c0654",
   "metadata": {},
   "outputs": [],
   "source": []
  }
 ],
 "metadata": {
  "kernelspec": {
   "display_name": "Python 3 (ipykernel)",
   "language": "python",
   "name": "python3"
  },
  "language_info": {
   "codemirror_mode": {
    "name": "ipython",
    "version": 3
   },
   "file_extension": ".py",
   "mimetype": "text/x-python",
   "name": "python",
   "nbconvert_exporter": "python",
   "pygments_lexer": "ipython3",
   "version": "3.10.1"
  }
 },
 "nbformat": 4,
 "nbformat_minor": 5
}
